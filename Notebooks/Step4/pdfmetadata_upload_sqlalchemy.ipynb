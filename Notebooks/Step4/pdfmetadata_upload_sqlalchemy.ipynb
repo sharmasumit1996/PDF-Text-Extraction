{
 "cells": [
  {
   "cell_type": "markdown",
   "id": "b77a7897",
   "metadata": {},
   "source": [
    "# Snowflake SQL Alchemy\n",
    "\n",
    "### Uploading the pdf metdata into snowflake using Snowflake-SQLAlchemy into our created db"
   ]
  },
  {
   "cell_type": "markdown",
   "id": "9a21b9f6",
   "metadata": {},
   "source": [
    "https://colab.research.gohttps://colab.research.google.com/drive/1n-pYQ78izf7u9QwJozfmxJvIRYTV7gX2?usp=sharing"
   ]
  },
  {
   "cell_type": "code",
   "execution_count": null,
   "id": "aa1af24c",
   "metadata": {
    "scrolled": true
   },
   "outputs": [],
   "source": [
    "pip install python-dotenv"
   ]
  },
  {
   "cell_type": "code",
   "execution_count": null,
   "id": "d7dd70fd",
   "metadata": {
    "scrolled": false
   },
   "outputs": [],
   "source": [
    "pip install bcrypt"
   ]
  },
  {
   "cell_type": "code",
   "execution_count": null,
   "id": "7e543ab4",
   "metadata": {
    "scrolled": true
   },
   "outputs": [],
   "source": [
    "pip install snowflake-sqlalchemy"
   ]
  },
  {
   "cell_type": "code",
   "execution_count": 1,
   "id": "b12802d6",
   "metadata": {},
   "outputs": [],
   "source": [
    "#!/usr/bin/env python\n",
    "import warnings\n",
    "warnings.filterwarnings(\"ignore\")\n",
    "from dotenv import load_dotenv\n",
    "from sqlalchemy import create_engine\n",
    "import bcrypt\n",
    "import os\n",
    "import csv\n",
    "import re"
   ]
  },
  {
   "cell_type": "code",
   "execution_count": 2,
   "id": "4ce5b69b",
   "metadata": {},
   "outputs": [
    {
     "name": "stdout",
     "output_type": "stream",
     "text": [
      "Conversion completed. Output saved to output.csv\n"
     ]
    }
   ],
   "source": [
    "import csv\n",
    "\n",
    "def convert_to_url(column_data):\n",
    "    # Constructing the URL based on the first column data\n",
    "    trimmed_data = column_data[5:7]\n",
    "    url = f\"https://s3.console.aws.amazon.com/s3/object/dsd-tes-fpdr?region=us-east-1&bucketType=general&prefix=Grobid_RR_2024_{trimmed_data}_combined.txt\"\n",
    "    return url\n",
    "\n",
    "# Open the CSV file for reading and writing\n",
    "with open('metadata.csv', mode='r') as file:\n",
    "    reader = csv.DictReader(file)\n",
    "    fieldnames = reader.fieldnames + ['URL']\n",
    "    \n",
    "    # Create a new CSV file with an additional column for the URLs\n",
    "    with open('metadata_new.csv', mode='w', newline='') as output_file:\n",
    "        writer = csv.DictWriter(output_file, fieldnames=fieldnames)\n",
    "        writer.writeheader()\n",
    "        \n",
    "        # Iterate over each row in the CSV file\n",
    "        for row in reader:\n",
    "            column_data = row['Filename']  # Assuming the first column contains the data for conversion\n",
    "            url = convert_to_url(column_data)\n",
    "            row['URL'] = url\n",
    "            \n",
    "            # Write the modified row to the new CSV file\n",
    "            writer.writerow(row)\n",
    "\n",
    "print(\"Conversion completed. Output saved to output.csv\")\n",
    "\n"
   ]
  },
  {
   "cell_type": "code",
   "execution_count": 9,
   "id": "fb55656c",
   "metadata": {},
   "outputs": [],
   "source": [
    "create_database_query = \"CREATE OR REPLACE DATABASE pdf_data;\"\n",
    "create_table_query = \"\"\"CREATE OR REPLACE TABLE pdf_metadata (\n",
    "        filename STRING,\n",
    "        Idno STRING,\n",
    "        Title STRING,\n",
    "        Header STRING,\n",
    "        Paragraph STRING,\n",
    "        Application STRING,\n",
    "        URL STRING\n",
    "        );\"\"\""
   ]
  },
  {
   "cell_type": "code",
   "execution_count": 10,
   "id": "9f8cd3b6",
   "metadata": {},
   "outputs": [],
   "source": [
    "create_stage = \"\"\"CREATE STAGE PDF_STAGING DIRECTORY = ( ENABLE = true );\"\"\"\n",
    "upload_to_stage = \"\"\"PUT file://metadata_new.csv @pdf_data.public.pdf_staging;\"\"\""
   ]
  },
  {
   "cell_type": "code",
   "execution_count": 11,
   "id": "833f74f4",
   "metadata": {},
   "outputs": [],
   "source": [
    "create_warehouse = \"\"\"CREATE OR REPLACE WAREHOUSE pdf WITH\n",
    "   WAREHOUSE_SIZE='X-SMALL'\n",
    "   AUTO_SUSPEND = 180\n",
    "   AUTO_RESUME = TRUE\n",
    "   INITIALLY_SUSPENDED=TRUE;\n",
    "   \"\"\""
   ]
  },
  {
   "cell_type": "code",
   "execution_count": 12,
   "id": "12e2e6e7",
   "metadata": {},
   "outputs": [],
   "source": [
    "copy_stage_to_table = \"\"\"COPY INTO pdf_metadata\n",
    "  FROM @pdf_data.public.pdf_staging\n",
    "  FILE_FORMAT = (type = csv field_optionally_enclosed_by='\"' skip_header = 1)\n",
    "  PATTERN = 'metadata_new.csv.gz'\n",
    "  ON_ERROR = 'skip_file';\"\"\""
   ]
  },
  {
   "cell_type": "code",
   "execution_count": 13,
   "id": "8f674713",
   "metadata": {
    "scrolled": false
   },
   "outputs": [
    {
     "name": "stdout",
     "output_type": "stream",
     "text": [
      "Done\n"
     ]
    }
   ],
   "source": [
    "load_dotenv()\n",
    "\n",
    "u=os.getenv(\"SNOWFLAKE_USER\")\n",
    "p=os.getenv(\"SNOWFLAKE_PASS\")\n",
    "ai=os.getenv(\"SNOWFLAKE_ACCOUNTID\")\n",
    "\n",
    "\n",
    "engine = create_engine(\n",
    "    'snowflake://{user}:{password}@{account_identifier}/'.format(\n",
    "        user=u,\n",
    "        password=p,\n",
    "        account_identifier=ai,\n",
    "    )\n",
    ")\n",
    "\n",
    "\n",
    "\n",
    "try:\n",
    "    connection = engine.connect()\n",
    "    results = connection.execute(create_database_query)\n",
    "    results = connection.execute(create_table_query)\n",
    "    results = connection.execute(create_warehouse)\n",
    "    connection.execute(\"USE DATABASE pdf_data\")\n",
    "    results = connection.execute(create_stage)\n",
    "    results = connection.execute(upload_to_stage)\n",
    "    connection.execute(\"USE WAREHOUSE pdf\")\n",
    "    results = connection.execute(copy_stage_to_table)\n",
    "\n",
    "finally:\n",
    "    print(\"Done\")\n",
    "    connection.close()\n",
    "    engine.dispose()"
   ]
  },
  {
   "cell_type": "code",
   "execution_count": null,
   "id": "a7636978",
   "metadata": {},
   "outputs": [],
   "source": []
  }
 ],
 "metadata": {
  "kernelspec": {
   "display_name": "Python 3 (ipykernel)",
   "language": "python",
   "name": "python3"
  },
  "language_info": {
   "codemirror_mode": {
    "name": "ipython",
    "version": 3
   },
   "file_extension": ".py",
   "mimetype": "text/x-python",
   "name": "python",
   "nbconvert_exporter": "python",
   "pygments_lexer": "ipython3",
   "version": "3.9.13"
  }
 },
 "nbformat": 4,
 "nbformat_minor": 5
}
