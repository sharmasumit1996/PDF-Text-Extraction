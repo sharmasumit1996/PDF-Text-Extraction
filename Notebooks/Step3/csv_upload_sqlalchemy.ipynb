{
 "cells": [
  {
   "cell_type": "markdown",
   "id": "b77a7897",
   "metadata": {},
   "source": [
    "# Snowflake SQL Alchemy\n",
    "\n",
    "### Uploading the web-scaped 'content.csv' into snowflake using Snowflake-SQLAlchemy into our created db"
   ]
  },
  {
   "cell_type": "markdown",
   "id": "9a21b9f6",
   "metadata": {},
   "source": [
    "https://colab.research.google.com/drive/1ypw7U38NmmvOOX6EyAw5e-cj0nC-BCmW"
   ]
  },
  {
   "cell_type": "code",
   "execution_count": null,
   "id": "aa1af24c",
   "metadata": {
    "scrolled": true
   },
   "outputs": [],
   "source": [
    "pip install python-dotenv"
   ]
  },
  {
   "cell_type": "code",
   "execution_count": null,
   "id": "d7dd70fd",
   "metadata": {
    "scrolled": false
   },
   "outputs": [],
   "source": [
    "pip install bcrypt"
   ]
  },
  {
   "cell_type": "code",
   "execution_count": null,
   "id": "7e543ab4",
   "metadata": {
    "scrolled": true
   },
   "outputs": [],
   "source": [
    "pip install snowflake-sqlalchemy"
   ]
  },
  {
   "cell_type": "code",
   "execution_count": 7,
   "id": "b12802d6",
   "metadata": {},
   "outputs": [],
   "source": [
    "#!/usr/bin/env python\n",
    "import warnings\n",
    "warnings.filterwarnings(\"ignore\")\n",
    "from dotenv import load_dotenv\n",
    "from sqlalchemy import create_engine\n",
    "import bcrypt\n",
    "import os"
   ]
  },
  {
   "cell_type": "code",
   "execution_count": 8,
   "id": "fb55656c",
   "metadata": {},
   "outputs": [],
   "source": [
    "create_database_query = \"CREATE OR REPLACE DATABASE cfa_refresher;\"\n",
    "create_table_query = \"\"\"CREATE OR REPLACE TABLE cfa_courses (\n",
    "        name_of_topic STRING,\n",
    "        year STRING,\n",
    "        level STRING,\n",
    "        introduction STRING,\n",
    "        learning_outcomes STRING,\n",
    "        link_to_summary_page STRING,\n",
    "        link_to_pdf STRING\n",
    "        );\"\"\""
   ]
  },
  {
   "cell_type": "code",
   "execution_count": 9,
   "id": "9f8cd3b6",
   "metadata": {},
   "outputs": [],
   "source": [
    "create_stage = \"\"\"CREATE STAGE STAGING DIRECTORY = ( ENABLE = true );\"\"\"\n",
    "upload_to_stage = \"\"\"PUT file://content.csv @cfa_refresher.public.STAGING;\"\"\""
   ]
  },
  {
   "cell_type": "code",
   "execution_count": 10,
   "id": "833f74f4",
   "metadata": {},
   "outputs": [],
   "source": [
    "create_warehouse = \"\"\"CREATE OR REPLACE WAREHOUSE cfa_data_wh WITH\n",
    "   WAREHOUSE_SIZE='X-SMALL'\n",
    "   AUTO_SUSPEND = 180\n",
    "   AUTO_RESUME = TRUE\n",
    "   INITIALLY_SUSPENDED=TRUE;\n",
    "   \"\"\""
   ]
  },
  {
   "cell_type": "code",
   "execution_count": 11,
   "id": "12e2e6e7",
   "metadata": {},
   "outputs": [],
   "source": [
    "copy_stage_to_table = \"\"\"COPY INTO cfa_courses\n",
    "  FROM @cfa_refresher.public.STAGING\n",
    "  FILE_FORMAT = (type = csv field_optionally_enclosed_by='\"')\n",
    "  PATTERN = 'content.csv.gz'\n",
    "  ON_ERROR = 'skip_file';\"\"\""
   ]
  },
  {
   "cell_type": "code",
   "execution_count": 15,
   "id": "8f674713",
   "metadata": {},
   "outputs": [
    {
     "name": "stdout",
     "output_type": "stream",
     "text": [
      "Done\n"
     ]
    }
   ],
   "source": [
    "load_dotenv()\n",
    "\n",
    "u=os.getenv(\"SNOWFLAKE_USER\")\n",
    "p=os.getenv(\"SNOWFLAKE_PASS\")\n",
    "ai=os.getenv(\"SNOWFLAKE_ACCOUNTID\")\n",
    "\n",
    "\n",
    "engine = create_engine(\n",
    "    'snowflake://{user}:{password}@{account_identifier}/'.format(\n",
    "        user=u,\n",
    "        password=p,\n",
    "        account_identifier=ai,\n",
    "    )\n",
    ")\n",
    "\n",
    "\n",
    "\n",
    "try:\n",
    "    connection = engine.connect()\n",
    "    results = connection.execute(create_database_query)\n",
    "    results = connection.execute(create_table_query)\n",
    "    results = connection.execute(create_warehouse)\n",
    "    connection.execute(\"USE DATABASE cfa_refresher\")\n",
    "    results = connection.execute(create_stage)\n",
    "    results = connection.execute(upload_to_stage)\n",
    "    connection.execute(\"USE WAREHOUSE cfa_data_wh\")\n",
    "    results = connection.execute(copy_stage_to_table)\n",
    "\n",
    "finally:\n",
    "    print(\"Done\")\n",
    "    connection.close()\n",
    "    engine.dispose()"
   ]
  },
  {
   "cell_type": "code",
   "execution_count": null,
   "id": "a7636978",
   "metadata": {},
   "outputs": [],
   "source": []
  }
 ],
 "metadata": {
  "kernelspec": {
   "display_name": "Python 3 (ipykernel)",
   "language": "python",
   "name": "python3"
  },
  "language_info": {
   "codemirror_mode": {
    "name": "ipython",
    "version": 3
   },
   "file_extension": ".py",
   "mimetype": "text/x-python",
   "name": "python",
   "nbconvert_exporter": "python",
   "pygments_lexer": "ipython3",
   "version": "3.9.13"
  }
 },
 "nbformat": 4,
 "nbformat_minor": 5
}
