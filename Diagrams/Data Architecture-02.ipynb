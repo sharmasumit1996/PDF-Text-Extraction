{
 "cells": [
  {
   "cell_type": "code",
   "execution_count": 6,
   "id": "a0cf0353",
   "metadata": {},
   "outputs": [],
   "source": [
    "from diagrams import Diagram, Cluster\n",
    "from diagrams.generic.network import Switch\n",
    "from diagrams.generic.storage import Storage\n",
    "from diagrams.onprem.compute import Server\n",
    "from diagrams.onprem.database import PostgreSQL\n",
    "from diagrams.onprem.inmemory import Redis\n",
    "from diagrams.programming.language import Python\n",
    "from diagrams.onprem import Node\n",
    "from diagrams.aws.storage import S3\n",
    "\n",
    "with Diagram(\"Data Scraping Architecture\", show=False):\n",
    "    with Cluster(\"Web Scraping\"):\n",
    "        api1 = Node(\"CFA Website\", image=\"CFA.png\")\n",
    "        web_scraping = Python(\"BeautifulSoup, Selenium\")\n",
    "        api1 >> web_scraping\n",
    "\n",
    "    with Cluster(\"PDF Scraping\"):\n",
    "        pdf_scraping = Server(\"PyPDF2, Grobid\")\n",
    "\n",
    "    with Cluster(\"Data Storage\"):\n",
    "        snowflake = PostgreSQL(\"Snowflake\")\n",
    "        aws_s3 = S3(\"AWS S3\")\n",
    "\n",
    "    web_scraping >> snowflake >> aws_s3\n",
    "    aws_s3 >> snowflake\n",
    "    pdf_scraping >> snowflake\n"
   ]
  },
  {
   "cell_type": "code",
   "execution_count": null,
   "id": "81157198",
   "metadata": {},
   "outputs": [],
   "source": []
  }
 ],
 "metadata": {
  "kernelspec": {
   "display_name": "Python 3 (ipykernel)",
   "language": "python",
   "name": "python3"
  },
  "language_info": {
   "codemirror_mode": {
    "name": "ipython",
    "version": 3
   },
   "file_extension": ".py",
   "mimetype": "text/x-python",
   "name": "python",
   "nbconvert_exporter": "python",
   "pygments_lexer": "ipython3",
   "version": "3.9.13"
  }
 },
 "nbformat": 4,
 "nbformat_minor": 5
}
